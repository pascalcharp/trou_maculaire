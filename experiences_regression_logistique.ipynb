{
 "cells": [
  {
   "cell_type": "code",
   "execution_count": 158,
   "metadata": {
    "collapsed": true,
    "pycharm": {
     "name": "#%%\n"
    }
   },
   "outputs": [],
   "source": [
    "import numpy as np\n",
    "import pandas as pd\n",
    "from sklearn.linear_model import LogisticRegressionCV\n",
    "from sklearn import metrics\n",
    "from IPython.display import display, Markdown, Latex\n",
    "from sklearn.model_selection import KFold, StratifiedKFold\n",
    "\n",
    "import matplotlib as plt"
   ]
  },
  {
   "cell_type": "markdown",
   "source": [
    "## Chargement et prétraitement des données\n",
    "\n",
    "### Chargement\n",
    "\n",
    "Le données proviennent de [ce dépôt.](https://www.kaggle.com/datasets/mathieugodbout/oct-postsurgery-visual-improvement)\n",
    "\n",
    "L'ensemble de test ne sera jamais employé dans aucune étape d'entraînement.  Par-contre, pour la régression logistique, l'ensemble de validation et l'ensemble d'entraînement seront fusionnés.\n",
    "\n",
    "### Prétraitement\n",
    "\n",
    "- Les données manquantes seront remplacées par la moyenne de la variable.\n",
    "- Le sexe est codé comme 1-2. Il sera recodé comme 0-1 afin que toutes les variables soient mises à la même échelle.\n",
    "- Lors des étapes d'entraînement on va normaliser les variables numériques selon leur score Z afin qu'elles soient toutes N(0, 1)."
   ],
   "metadata": {
    "collapsed": false
   }
  },
  {
   "cell_type": "markdown",
   "source": [
    "# Statistiques de l'ensemble d'entraînement (pour la régression logistique) vs l'ensemble test"
   ],
   "metadata": {
    "collapsed": false
   }
  },
  {
   "cell_type": "code",
   "execution_count": 159,
   "outputs": [
    {
     "data": {
      "text/plain": "<IPython.core.display.Markdown object>",
      "text/markdown": "|    |   age |   sex |   pseudophakic |   mh_duration |   elevated_edge |   mh_size |   VA_baseline |   VA_6months | responder   |\n|---:|------:|------:|---------------:|--------------:|----------------:|----------:|--------------:|-------------:|:------------|\n|  0 |    60 |     2 |              0 |        9      |               0 |       252 |             0 |           71 | True        |\n|  1 |    68 |     2 |              1 |       10.3125 |               0 |       336 |            41 |           78 | True        |\n|  2 |    73 |     1 |              0 |        5      |               1 |       287 |            43 |           76 | True        |\n|  3 |    70 |     1 |              1 |        3      |               1 |       144 |            56 |           80 | True        |\n|  4 |    68 |     2 |              1 |        9      |               1 |       152 |            63 |           83 | True        |\n|  5 |    66 |     2 |              0 |       10      |               0 |       160 |            63 |           69 | False       |\n|  6 |    62 |     2 |              0 |       13      |               1 |       184 |            36 |           37 | False       |\n|  7 |    83 |     2 |              0 |       10      |               1 |       355 |            59 |           63 | False       |\n|  8 |    72 |     1 |              1 |       21      |               1 |       191 |            68 |           62 | False       |\n|  9 |    65 |     2 |              0 |        9      |               1 |       240 |            41 |           52 | False       |\n| 10 |    69 |     2 |              0 |       16      |               1 |       212 |            69 |           49 | False       |\n| 11 |    80 |     1 |              0 |       13      |               1 |       248 |            65 |           72 | False       |\n| 12 |    63 |     2 |              0 |        8      |               1 |       216 |            62 |           71 | False       |\n| 13 |    76 |     1 |              0 |        8      |               1 |       144 |            75 |           70 | False       |\n| 14 |    58 |     2 |              0 |        4      |               0 |       288 |            43 |           63 | True        |\n| 15 |    74 |     2 |              0 |       15      |               1 |       520 |            40 |           63 | True        |\n| 16 |    63 |     2 |              0 |       12      |               1 |       424 |            40 |           63 | True        |"
     },
     "metadata": {},
     "output_type": "display_data"
    }
   ],
   "source": [
    "chemin = \"~/PycharmProjects/trou_maculaire_regression_logistique/data/\"\n",
    "\n",
    "def get_data_from_files(chemin, fname):\n",
    "    df = pd.DataFrame()\n",
    "    for name in fname:\n",
    "        file = chemin + name\n",
    "        df = pd.concat([df, pd.read_csv(file)])\n",
    "\n",
    "    df.drop(['id', 'VA_2weeks', 'VA_3months', 'VA_12months'], inplace=True, axis=1)\n",
    "\n",
    "    #df['VA_baseline'].replace(0, np.nan, inplace=True)\n",
    "    df['VA_baseline'].fillna(df['VA_baseline'].mean(), inplace=True)\n",
    "\n",
    "    df.replace(-9, np.nan, inplace=True)\n",
    "    df.fillna(df.mean(), inplace=True)\n",
    "\n",
    "    df['responder'] = (df['VA_6months'] - df['VA_baseline']) >= 15\n",
    "\n",
    "\n",
    "    return df\n",
    "\n",
    "df_test = get_data_from_files(chemin, [\"clinical_data_test.csv\"])\n",
    "display(Markdown(df_test.to_markdown()))"
   ],
   "metadata": {
    "collapsed": false,
    "pycharm": {
     "name": "#%%\n"
    }
   }
  },
  {
   "cell_type": "markdown",
   "source": [
    "### Vue d'ensemble des données de l'ensemble test, après prétraitement"
   ],
   "metadata": {
    "collapsed": false
   }
  },
  {
   "cell_type": "code",
   "execution_count": 160,
   "outputs": [
    {
     "data": {
      "text/plain": "<IPython.core.display.Markdown object>",
      "text/markdown": "|             |     Mean |      SDev |\n|:------------|---------:|----------:|\n| age         |  68.8235 |   6.9213  |\n| mh_duration |  10.3125 |   4.49609 |\n| mh_size     | 256.059  | 104.435   |\n| VA_baseline |  50.8235 |  18.1633  |\n| VA_6months  |  66      |  11.7739  |"
     },
     "metadata": {},
     "output_type": "display_data"
    }
   ],
   "source": [
    "def get_continuous_data_descriptive_stats(df):\n",
    "    \"\"\"\n",
    "    Construit un dataframe décrivant la moyenne et l'écart-type des variables continues du modèle clinique\n",
    "    :param df: df d'entrainement ou de test fourni sur Kaggle par Mathieu Godbout\n",
    "    :return: Un dataframe 5X2 contenant une colonne des moyennes et une colonne des écarts-type pour l'âge, la durée, le diamètre du trou, l'acuité visuelle de base et l'acuité visuelle à 6 mois.\n",
    "    \"\"\"\n",
    "    df_cont = df.drop(['sex', 'pseudophakic', 'elevated_edge', 'responder'], axis=1)\n",
    "    stats_cont = pd.DataFrame([df_cont.mean(axis=0, skipna=True), df_cont.std(axis=0, skipna=True)]).transpose()\n",
    "    stats_cont.columns = ['Mean', 'SDev']\n",
    "    #stats_cont = stats_cont.round(decimals=0)\n",
    "    return stats_cont\n",
    "\n",
    "\n",
    "test_set_continuous_data_descriptive_stats = get_continuous_data_descriptive_stats(df_test)\n",
    "display(Markdown(test_set_continuous_data_descriptive_stats.to_markdown()))\n"
   ],
   "metadata": {
    "collapsed": false,
    "pycharm": {
     "name": "#%%\n"
    }
   }
  },
  {
   "cell_type": "markdown",
   "source": [
    "### Résultats de la table 1, pour l'ensemble test et les données numériques\n",
    "\n",
    "- Il y a une différence de 1 dans la SD de mh_duration par-rapport aux résultats de l'article\n",
    "- On a 54 pour VA_baseline alors que dans l'article la valeur de 51 est rapportée.  Toutefois, une des valeurs de ce set était 0.  Est-ce une observation clinique adéquate ou une donnée manquante ayant été mal saisie?  Ici nous l'avons remplacée par la moyenne."
   ],
   "metadata": {
    "collapsed": false
   }
  },
  {
   "cell_type": "markdown",
   "source": [],
   "metadata": {
    "collapsed": false
   }
  },
  {
   "cell_type": "code",
   "execution_count": 161,
   "outputs": [
    {
     "data": {
      "text/plain": "<IPython.core.display.Markdown object>",
      "text/markdown": "|                  |   number |   per_cent |\n|:-----------------|---------:|-----------:|\n| F                |       12 |         71 |\n| M                |        5 |         29 |\n| lens_absent      |       13 |         76 |\n| lens_present     |        4 |         24 |\n| elevated_edge    |       13 |         76 |\n| no_elevated_edge |        4 |         24 |\n| non_responder    |        9 |         53 |\n| responder        |        8 |         47 |"
     },
     "metadata": {},
     "output_type": "display_data"
    }
   ],
   "source": [
    "df_test_cat = df_test.drop(['age', 'VA_baseline', 'VA_6months', 'mh_duration', 'mh_size'], axis=1)\n",
    "\n",
    "def get_categorical_variable_descriptive_stats(df_cat, col_name, cmap):\n",
    "    cat_stats = df_cat[col_name].value_counts()\n",
    "    cat_stats.rename(cmap, inplace=True)\n",
    "    cat_stats.rename('number', inplace=True)\n",
    "    cat_proportions = df_cat[col_name].value_counts(normalize=True)*100\n",
    "    cat_proportions.rename(cmap, inplace=True)\n",
    "    cat_proportions.rename('per_cent', inplace=True)\n",
    "    cat_stats = pd.concat([cat_stats, cat_proportions], axis=1)\n",
    "    cat_stats = cat_stats.round(decimals=0)\n",
    "    return cat_stats\n",
    "\n",
    "def get_categorical_data_descriptive_stats(df_cat):\n",
    "    return pd.concat([get_categorical_variable_descriptive_stats(df_cat, 'sex', {1:'M', 2:'F'}),\n",
    "                      get_categorical_variable_descriptive_stats(df_cat, 'pseudophakic', {0:'lens_absent', 1:'lens_present'}),\n",
    "                      get_categorical_variable_descriptive_stats(df_cat, 'elevated_edge', {0:'no_elevated_edge', 1:'elevated_edge'}),\n",
    "                      get_categorical_variable_descriptive_stats(df_cat, 'responder', {0:'non_responder', 1:'responder'})\n",
    "        \n",
    "    ])\n",
    "\n",
    "test_set_categorical_data_stats = get_categorical_data_descriptive_stats(df_test_cat)\n",
    "display(Markdown(test_set_categorical_data_stats.to_markdown()))"
   ],
   "metadata": {
    "collapsed": false,
    "pycharm": {
     "name": "#%%\n"
    }
   }
  },
  {
   "cell_type": "markdown",
   "source": [
    "### Résultats de la table 1 pour les données catégoriques de l'ensemble test\n",
    "\n",
    "- On a correspondance pour le sexe, la présence d'une lentille implantée, et le nombre de répondeurs.\n",
    "- La catégorie \"rebord élevé\" n'apparait pas dans l'article alors qu'elle est dans le modèle clinique.  Pourquoi?"
   ],
   "metadata": {
    "collapsed": false
   }
  },
  {
   "cell_type": "code",
   "execution_count": 162,
   "outputs": [
    {
     "name": "stdout",
     "output_type": "stream",
     "text": [
      "104\n"
     ]
    }
   ],
   "source": [
    "df_train_lr = get_data_from_files(chemin, ['clinical_data_train.csv', 'clinical_data_val.csv'])\n",
    "print(len(df_train_lr))"
   ],
   "metadata": {
    "collapsed": false,
    "pycharm": {
     "name": "#%%\n"
    }
   }
  },
  {
   "cell_type": "code",
   "execution_count": 163,
   "outputs": [
    {
     "data": {
      "text/plain": "<IPython.core.display.Markdown object>",
      "text/markdown": "|    |   age |   sex |   pseudophakic |   mh_duration |   elevated_edge |   mh_size |   VA_baseline |   VA_6months | responder   |\n|---:|------:|------:|---------------:|--------------:|----------------:|----------:|--------------:|-------------:|:------------|\n|  0 |    73 |     2 |              0 |        3      |        1        |       336 |            58 |           78 | True        |\n|  1 |    69 |     2 |              0 |       47      |        1        |       552 |            33 |           71 | True        |\n|  2 |    67 |     2 |              0 |        8      |        1        |       761 |            10 |           77 | True        |\n|  3 |    56 |     2 |              0 |        9      |        1        |       467 |            42 |           77 | True        |\n|  4 |    49 |     2 |              0 |        7      |        1        |       320 |            61 |           83 | True        |\n|  5 |    61 |     1 |              0 |        8      |        1        |       153 |            66 |           83 | True        |\n|  6 |    77 |     1 |              1 |        7      |        1        |       518 |            53 |           74 | True        |\n|  7 |    79 |     2 |              1 |       11      |        1        |       671 |            53 |           78 | True        |\n|  8 |    69 |     2 |              1 |        7      |        1        |       264 |            48 |           78 | True        |\n|  9 |    72 |     2 |              0 |       19      |        1        |       133 |            58 |           75 | True        |\n| 10 |    62 |     2 |              1 |        4      |        1        |       645 |            35 |           78 | True        |\n| 11 |    55 |     2 |              1 |        9      |        1        |       411 |            48 |           78 | True        |\n| 12 |    65 |     2 |              0 |       21      |        1        |       378 |            48 |           75 | True        |\n| 13 |    66 |     1 |              0 |       11.1782 |        1        |       319 |            63 |           78 | True        |\n| 14 |    50 |     1 |              0 |       12      |        1        |       240 |            58 |           80 | True        |\n| 15 |    64 |     2 |              0 |        7      |        1        |       352 |            59 |           80 | True        |\n| 16 |    69 |     2 |              1 |        2      |        1        |       289 |            59 |           74 | True        |\n| 17 |    66 |     2 |              0 |        7      |        1        |       208 |            52 |           74 | True        |\n| 18 |    58 |     2 |              0 |        4      |        0        |        88 |            49 |           70 | True        |\n| 19 |    48 |     2 |              0 |        7      |        1        |       808 |            36 |           78 | True        |\n| 20 |    68 |     2 |              0 |       18      |        1        |       208 |            52 |           70 | True        |\n| 21 |    72 |     2 |              0 |        4      |        1        |       363 |            36 |           80 | True        |\n| 22 |    90 |     1 |              0 |       17      |        1        |       451 |            41 |           78 | True        |\n| 23 |    65 |     2 |              0 |       12      |        1        |       230 |            58 |           74 | True        |\n| 24 |    78 |     1 |              0 |        7      |        1        |       108 |            63 |           68 | False       |\n| 25 |    61 |     2 |              0 |        9      |        1        |       368 |            53 |           56 | False       |\n| 26 |    76 |     2 |              0 |       11      |        1        |       183 |            63 |           50 | False       |\n| 27 |    66 |     2 |              0 |       10      |        1        |       262 |            57 |           59 | False       |\n| 28 |    73 |     1 |              0 |        7      |        1        |       248 |            50 |           63 | False       |\n| 29 |    70 |     2 |              0 |       11      |        1        |       376 |            59 |           64 | False       |\n| 30 |    68 |     2 |              0 |       12      |        1        |       342 |            62 |           65 | False       |\n| 31 |    60 |     2 |              0 |       39      |        1        |       512 |            43 |           48 | False       |\n| 32 |    60 |     1 |              0 |       18      |        0        |       232 |            79 |           10 | False       |\n| 33 |    67 |     2 |              0 |        4      |        1        |       143 |            66 |           67 | False       |\n| 34 |    64 |     2 |              0 |       10      |        1        |       112 |            68 |           67 | False       |\n| 35 |    64 |     2 |              0 |        8      |        1        |       162 |            49 |           58 | False       |\n| 36 |    66 |     1 |              1 |        8      |        0        |       157 |            57 |           63 | False       |\n| 37 |    60 |     1 |              0 |       13      |        1        |       176 |            65 |           67 | False       |\n| 38 |    70 |     1 |              0 |       10      |        1        |       433 |            51 |           56 | False       |\n| 39 |    65 |     2 |              0 |        5      |        1        |       496 |            57 |           51 | False       |\n| 40 |    62 |     2 |              0 |        5      |        1        |       435 |            64 |           63 | False       |\n| 41 |    56 |     1 |              0 |        8      |        1        |       316 |            48 |           56 | False       |\n| 42 |    64 |     2 |              0 |        8      |        0        |       248 |            43 |           51 | False       |\n| 43 |    67 |     2 |              0 |       18      |        0        |       202 |            36 |           41 | False       |\n| 44 |    73 |     2 |              0 |        9      |        0        |       264 |            62 |           69 | False       |\n| 45 |    66 |     2 |              0 |        4      |        1        |       316 |            51 |           36 | False       |\n| 46 |    68 |     2 |              0 |       17      |        1        |       465 |            49 |           60 | False       |\n| 47 |    64 |     2 |              0 |       12      |        1        |       208 |            56 |           63 | False       |\n| 48 |    67 |     2 |              0 |        7      |        1        |       434 |            50 |           43 | False       |\n| 49 |    62 |     2 |              0 |       12      |        1        |       539 |            36 |           50 | False       |\n| 50 |    73 |     1 |              1 |       11      |        1        |       160 |            60 |           68 | False       |\n| 51 |    71 |     2 |              0 |        7      |        1        |       380 |            49 |           60 | False       |\n| 52 |    66 |     2 |              0 |       13      |        1        |       425 |            60 |           70 | False       |\n| 53 |    56 |     2 |              0 |        6      |        1        |       176 |            70 |           78 | False       |\n| 54 |    82 |     1 |              0 |        6      |        1        |       229 |            65 |           70 | False       |\n| 55 |    68 |     1 |              0 |        6      |        1        |        80 |            63 |           76 | False       |\n| 56 |    67 |     2 |              0 |       13      |        0        |       189 |            70 |           71 | False       |\n| 57 |    66 |     2 |              0 |        2      |        1        |        96 |            65 |           76 | False       |\n| 58 |    39 |     2 |              1 |        6      |        1        |       280 |            65 |           76 | False       |\n| 59 |    71 |     2 |              1 |        3      |        1        |       400 |            79 |           80 | False       |\n| 60 |    74 |     2 |              0 |        6      |        1        |       440 |            68 |           72 | False       |\n| 61 |    69 |     1 |              0 |       11.1782 |        1        |       207 |            60 |           70 | False       |\n| 62 |    69 |     2 |              0 |        4      |        0.901961 |       270 |            65 |           70 | False       |\n| 63 |    63 |     1 |              0 |       21      |        1        |       240 |            63 |           70 | False       |\n| 64 |    67 |     1 |              1 |       12      |        1        |       474 |            70 |           71 | False       |\n| 65 |    73 |     1 |              0 |       13      |        1        |       223 |            63 |           75 | False       |\n| 66 |    70 |     2 |              0 |        5      |        1        |       498 |            40 |           65 | True        |\n| 67 |    57 |     1 |              0 |       24      |        1        |       592 |            10 |           63 | True        |\n| 68 |    66 |     2 |              0 |        8      |        1        |       122 |            40 |           69 | True        |\n| 69 |    67 |     2 |              0 |       10      |        1        |       712 |            10 |           53 | True        |\n| 70 |    72 |     2 |              0 |        9      |        1        |       696 |            43 |           59 | True        |\n| 71 |    65 |     2 |              0 |        7      |        1        |       288 |            34 |           57 | True        |\n| 72 |    64 |     2 |              0 |        2      |        1        |       240 |            40 |           61 | True        |\n| 73 |    69 |     2 |              0 |       15      |        1        |       572 |            43 |           67 | True        |\n| 74 |    78 |     2 |              1 |        7      |        0        |       387 |            43 |           67 | True        |\n| 75 |    69 |     2 |              1 |       75      |        1        |       627 |            10 |           60 | True        |\n| 76 |    63 |     2 |              0 |       16      |        1        |       672 |            43 |           69 | True        |\n| 77 |    70 |     2 |              0 |        9      |        1        |       568 |            41 |           64 | True        |\n| 78 |    64 |     2 |              0 |        7      |        1        |       486 |            21 |           69 | True        |\n| 79 |    66 |     2 |              0 |        4      |        1        |       344 |            40 |           59 | True        |\n| 80 |    78 |     1 |              1 |        9      |        1        |       368 |            21 |           50 | True        |\n| 81 |    77 |     2 |              0 |       24      |        1        |       486 |            10 |           41 | True        |\n| 82 |    69 |     2 |              0 |       38      |        1        |       513 |            49 |           68 | True        |\n|  0 |    67 |     1 |              0 |        5      |        1        |       240 |            49 |           72 | True        |\n|  1 |    64 |     1 |              0 |       10      |        1        |       168 |            58 |           76 | True        |\n|  2 |    64 |     2 |              0 |        6      |        1        |       376 |            48 |           70 | True        |\n|  3 |    76 |     2 |              1 |        5      |        1        |       302 |            58 |           78 | True        |\n|  4 |    62 |     1 |              0 |        8      |        1        |       325 |            40 |           70 | True        |\n|  5 |    55 |     2 |              0 |       14      |        1        |       164 |            61 |           79 | True        |\n|  6 |    65 |     2 |              0 |       24      |        1        |       527 |            47 |           49 | False       |\n|  7 |    65 |     2 |              0 |       10      |        1        |       437 |            48 |           60 | False       |\n|  8 |    75 |     1 |              0 |        8      |        1        |       476 |            36 |           50 | False       |\n|  9 |    61 |     2 |              0 |       16      |        1        |       432 |            63 |           69 | False       |\n| 10 |    68 |     1 |              0 |       11.1782 |        1        |       682 |            57 |           52 | False       |\n| 11 |    59 |     2 |              0 |       12      |        1        |       365 |            58 |           63 | False       |\n| 12 |    60 |     2 |              0 |        8      |        0        |       248 |            72 |           63 | False       |\n| 13 |    69 |     2 |              1 |        6      |        1        |       253 |            60 |           74 | False       |\n| 14 |    60 |     1 |              0 |       12      |        0        |       258 |            57 |           70 | False       |\n| 15 |    47 |     2 |              0 |       13      |        1        |       224 |            66 |           76 | False       |\n| 16 |    61 |     2 |              1 |        9      |        1        |       617 |            20 |           67 | True        |\n| 17 |    72 |     2 |              0 |       11      |        0.901961 |       604 |            36 |           61 | True        |\n| 18 |    78 |     1 |              1 |        9      |        1        |       154 |            40 |           60 | True        |\n| 19 |    67 |     2 |              0 |        8      |        1        |       648 |            21 |           50 | True        |\n| 20 |    74 |     2 |              0 |        5      |        1        |       294 |            41 |           58 | True        |"
     },
     "metadata": {},
     "output_type": "display_data"
    }
   ],
   "source": [
    "display(Markdown(df_train_lr.to_markdown()))"
   ],
   "metadata": {
    "collapsed": false,
    "pycharm": {
     "name": "#%%\n"
    }
   }
  },
  {
   "cell_type": "markdown",
   "source": [
    "### Vue d'ensemble des données pour l'ensemble d'entraînement de la régression logistique\n",
    "- On voit qu'il manquait deux données dans la catégorie elevated_edge.  Elles ont été remplacées par la 'moyenne'.  Est-ce adéquat?  Cela pose des problèmes lorsqu'on tente d'extraire les statistiques descriptives des variables catégoriques."
   ],
   "metadata": {
    "collapsed": false
   }
  },
  {
   "cell_type": "code",
   "execution_count": 164,
   "outputs": [
    {
     "data": {
      "text/plain": "<IPython.core.display.Markdown object>",
      "text/markdown": "|             |     Mean |      SDev |\n|:------------|---------:|----------:|\n| age         |  66.2885 |   7.58854 |\n| mh_duration |  11.1782 |   9.57788 |\n| mh_size     | 357.077  | 171.845   |\n| VA_baseline |  50.2115 |  15.2103  |\n| VA_6months  |  65.8269 |  11.7105  |"
     },
     "metadata": {},
     "output_type": "display_data"
    }
   ],
   "source": [
    "train_set_continuous_data_stats = get_continuous_data_descriptive_stats(df_train_lr)\n",
    "display(Markdown(train_set_continuous_data_stats.to_markdown()))"
   ],
   "metadata": {
    "collapsed": false,
    "pycharm": {
     "name": "#%%\n"
    }
   }
  },
  {
   "cell_type": "markdown",
   "source": [
    "### Résultats de la table 1 pour les variables numériques de l'ensemble d'entraînement de la régression logistique\n",
    "\n",
    "- Les résultats de l'article sont reproduits"
   ],
   "metadata": {
    "collapsed": false
   }
  },
  {
   "cell_type": "code",
   "execution_count": 165,
   "outputs": [
    {
     "data": {
      "text/plain": "<IPython.core.display.Markdown object>",
      "text/markdown": "|                    |   number |   per_cent |\n|:-------------------|---------:|-----------:|\n| F                  |       76 |         73 |\n| M                  |       28 |         27 |\n| lens_absent        |       86 |         83 |\n| lens_present       |       18 |         17 |\n| elevated_edge      |       92 |         88 |\n| no_elevated_edge   |       10 |         10 |\n| 0.9019607843137255 |        2 |          2 |\n| responder          |       52 |         50 |\n| non_responder      |       52 |         50 |"
     },
     "metadata": {},
     "output_type": "display_data"
    }
   ],
   "source": [
    "train_set_categorical_data_stats = get_categorical_data_descriptive_stats(df_train_lr)\n",
    "display(Markdown(train_set_categorical_data_stats.to_markdown()))"
   ],
   "metadata": {
    "collapsed": false,
    "pycharm": {
     "name": "#%%\n"
    }
   }
  },
  {
   "cell_type": "markdown",
   "source": [
    "### Résultats de la table 1 pour les données catégoriques de l'ensemble d'entraînement\n",
    "\n",
    "- Une fausse catégorie est apparue car des variables elevated_edge absentes ont été remplacées par la moyenne\n"
   ],
   "metadata": {
    "collapsed": false
   }
  },
  {
   "cell_type": "code",
   "execution_count": 166,
   "outputs": [
    {
     "name": "stdout",
     "output_type": "stream",
     "text": [
      "121\n"
     ]
    }
   ],
   "source": [
    "total_set = pd.concat([df_train_lr, df_test])\n",
    "print(len(total_set))"
   ],
   "metadata": {
    "collapsed": false,
    "pycharm": {
     "name": "#%%\n"
    }
   }
  },
  {
   "cell_type": "markdown",
   "source": [
    "## Statistiques de l'ensemble total et comparaison entre répondeurs et non-répondeurs"
   ],
   "metadata": {
    "collapsed": false
   }
  },
  {
   "cell_type": "code",
   "execution_count": 167,
   "outputs": [
    {
     "data": {
      "text/plain": "<IPython.core.display.Markdown object>",
      "text/markdown": "|             |     Mean |      SDev |\n|:------------|---------:|----------:|\n| age         |  66.6446 |   7.52314 |\n| mh_duration |  11.0566 |   9.0292  |\n| mh_size     | 342.884  | 167.464   |\n| VA_baseline |  50.2975 |  15.576   |\n| VA_6months  |  65.8512 |  11.6702  |"
     },
     "metadata": {},
     "output_type": "display_data"
    }
   ],
   "source": [
    "total_set_continuous_data_stats = get_continuous_data_descriptive_stats(total_set)\n",
    "display(Markdown(total_set_continuous_data_stats.to_markdown()))"
   ],
   "metadata": {
    "collapsed": false,
    "pycharm": {
     "name": "#%%\n"
    }
   }
  },
  {
   "cell_type": "markdown",
   "source": [
    "### Résultats de la table 1 pour les données numériques de l'ensemble total\n",
    "\n",
    "- Une anomalie semble s'être glissée dans l'écart-type de l'âge"
   ],
   "metadata": {
    "collapsed": false
   }
  },
  {
   "cell_type": "code",
   "execution_count": 168,
   "outputs": [
    {
     "data": {
      "text/plain": "<IPython.core.display.Markdown object>",
      "text/markdown": "|                    |   number |   per_cent |\n|:-------------------|---------:|-----------:|\n| F                  |       88 |         73 |\n| M                  |       33 |         27 |\n| lens_absent        |       99 |         82 |\n| lens_present       |       22 |         18 |\n| elevated_edge      |      105 |         87 |\n| no_elevated_edge   |       14 |         12 |\n| 0.9019607843137255 |        2 |          2 |\n| non_responder      |       61 |         50 |\n| responder          |       60 |         50 |"
     },
     "metadata": {},
     "output_type": "display_data"
    }
   ],
   "source": [
    "total_set_categorical_data_stats = get_categorical_data_descriptive_stats(total_set)\n",
    "display(Markdown(total_set_categorical_data_stats.to_markdown()))"
   ],
   "metadata": {
    "collapsed": false,
    "pycharm": {
     "name": "#%%\n"
    }
   }
  },
  {
   "cell_type": "markdown",
   "source": [
    "### Résultats de la table 1 pour les données catégoriques de l'ensemble total\n",
    "\n",
    "- Présence de la même anomalie pour la catégorie elevated_edge"
   ],
   "metadata": {
    "collapsed": false
   }
  },
  {
   "cell_type": "code",
   "execution_count": 169,
   "outputs": [
    {
     "data": {
      "text/plain": "<IPython.core.display.Markdown object>",
      "text/markdown": "|             |   Mean_resp |   SD_resp |   Mean_nonresp |   SD_nonresp |\n|:------------|------------:|----------:|---------------:|-------------:|\n| age         |     66.8    |   7.75428 |        66.4918 |      7.34988 |\n| mh_duration |     11.4582 |  11.4477  |        10.6616 |      5.81962 |\n| mh_size     |    393.85   | 184.593   |       292.754  |    132.019   |\n| VA_baseline |     41.8667 |  15.5449  |        58.5902 |     10.3253  |\n| VA_6months  |     70      |   9.25715 |        61.7705 |     12.4089  |"
     },
     "metadata": {},
     "output_type": "display_data"
    }
   ],
   "source": [
    "total_set_non_responder, total_set_responder = [x for _, x in total_set.groupby(total_set['responder'])]\n",
    "\n",
    "responders_continuous_data_stats = get_continuous_data_descriptive_stats(total_set_responder)\n",
    "responders_continuous_data_stats.rename({'Mean': 'Mean_resp', 'SDev': 'SD_resp'}, axis=1, inplace=True)\n",
    "non_responders_continuous_data_stats = get_continuous_data_descriptive_stats(total_set_non_responder)\n",
    "non_responders_continuous_data_stats.rename({'Mean': 'Mean_nonresp', 'SDev': 'SD_nonresp'}, axis=1, inplace=True)\n",
    "\n",
    "rvsnonr_continuous_data_stats = pd.concat([responders_continuous_data_stats, non_responders_continuous_data_stats], axis=1)\n",
    "display(Markdown(rvsnonr_continuous_data_stats.to_markdown()))"
   ],
   "metadata": {
    "collapsed": false,
    "pycharm": {
     "name": "#%%\n"
    }
   }
  },
  {
   "cell_type": "markdown",
   "source": [
    "### Table 2: Comparaison des répondeurs vs non-répondeurs pour les variables numériques\n",
    "\n",
    "- L'écart-type pour l'âge dans l'article semble avoir spontanément été multiplié par deux"
   ],
   "metadata": {
    "collapsed": false
   }
  },
  {
   "cell_type": "code",
   "execution_count": 170,
   "outputs": [
    {
     "data": {
      "text/plain": "<IPython.core.display.Markdown object>",
      "text/markdown": "|                    |   number |   per_cent |   number |   per_cent |\n|:-------------------|---------:|-----------:|---------:|-----------:|\n| F                  |       47 |         78 |       41 |         67 |\n| M                  |       13 |         22 |       20 |         33 |\n| lens_absent        |       45 |         75 |       54 |         89 |\n| lens_present       |       15 |         25 |        7 |         11 |\n| elevated_edge      |       54 |         90 |       51 |         84 |\n| no_elevated_edge   |        5 |          8 |        9 |         15 |\n| 0.9019607843137255 |        1 |          2 |        1 |          2 |\n| responder          |       60 |        100 |      nan |        nan |\n| non_responder      |      nan |        nan |       61 |        100 |"
     },
     "metadata": {},
     "output_type": "display_data"
    }
   ],
   "source": [
    "responders_categorical_data_stats = get_categorical_data_descriptive_stats(total_set_responder)\n",
    "responders_categorical_data_stats.rename({'Mean': 'Mean_resp', 'SDev': 'SD_resp'}, axis=1, inplace=True)\n",
    "nonresponders_categorical_data_stats = get_categorical_data_descriptive_stats(total_set_non_responder)\n",
    "nonresponders_categorical_data_stats.rename({'Mean': 'Mean_nonresp', 'SDev': 'SD_nonresp'}, axis=1, inplace=True)\n",
    "rvsnr_categorical_data_stats = pd.concat([responders_categorical_data_stats, nonresponders_categorical_data_stats], axis=1)\n",
    "display(Markdown(rvsnr_categorical_data_stats.to_markdown()))"
   ],
   "metadata": {
    "collapsed": false,
    "pycharm": {
     "name": "#%%\n"
    }
   }
  },
  {
   "cell_type": "markdown",
   "source": [
    "### Table 2 comparaison des répondeurs vs non-répondeurs pour les données catégoriques"
   ],
   "metadata": {
    "collapsed": false
   }
  },
  {
   "cell_type": "markdown",
   "source": [
    "# Expérience de régression logistique sur l'ensemble d'entraînement"
   ],
   "metadata": {
    "collapsed": false
   }
  },
  {
   "cell_type": "markdown",
   "source": [
    "### Normalisation des données et définition des variables dépendantes et indépendantes"
   ],
   "metadata": {
    "collapsed": false
   }
  },
  {
   "cell_type": "code",
   "execution_count": 171,
   "outputs": [],
   "source": [
    "def normalise_data(df):\n",
    "    for variable in ['mh_duration', 'mh_size', 'VA_baseline']:\n",
    "        moy = df[variable].mean()\n",
    "        std = df[variable].std()\n",
    "        df[variable] = (df[variable] - moy) / std\n",
    "\n",
    "\n",
    "X = df_train_lr.copy().drop(['responder', 'age', 'sex', 'VA_6months', 'elevated_edge'], axis=1)\n",
    "y = df_train_lr['responder'].copy()"
   ],
   "metadata": {
    "collapsed": false,
    "pycharm": {
     "name": "#%%\n"
    }
   }
  },
  {
   "cell_type": "markdown",
   "source": [
    "### Sélection du modèle de régression et entraînement"
   ],
   "metadata": {
    "collapsed": false
   }
  },
  {
   "cell_type": "code",
   "execution_count": 172,
   "outputs": [
    {
     "data": {
      "text/plain": "LogisticRegressionCV(cv=10)"
     },
     "execution_count": 172,
     "metadata": {},
     "output_type": "execute_result"
    }
   ],
   "source": [
    "\n",
    "model = LogisticRegressionCV(cv=10)\n",
    "model.fit(X, y)\n"
   ],
   "metadata": {
    "collapsed": false,
    "pycharm": {
     "name": "#%%\n"
    }
   }
  },
  {
   "cell_type": "markdown",
   "source": [
    "### Tests du modèle de régression"
   ],
   "metadata": {
    "collapsed": false
   }
  },
  {
   "cell_type": "code",
   "execution_count": 173,
   "outputs": [
    {
     "data": {
      "text/plain": "<IPython.core.display.Markdown object>",
      "text/markdown": "|       |   Train set |\n|:------|------------:|\n| acc   |    0.701923 |\n| F1    |    0.699029 |\n| auroc |    0.828033 |\n| SP    |    0.711538 |\n| SN    |    0.692308 |\n| NPV   |    0.698113 |\n| PPV   |    0.705882 |"
     },
     "metadata": {},
     "output_type": "display_data"
    },
    {
     "data": {
      "text/plain": "<IPython.core.display.Markdown object>",
      "text/markdown": "|       |   Test set |\n|:------|-----------:|\n| acc   |   0.764706 |\n| F1    |   0.75     |\n| auroc |   0.805556 |\n| SP    |   0.777778 |\n| SN    |   0.75     |\n| NPV   |   0.777778 |\n| PPV   |   0.75     |"
     },
     "metadata": {},
     "output_type": "display_data"
    }
   ],
   "source": [
    "def tester_le_modele(mod, X_test, y_test):\n",
    "\n",
    "    scores_tests = {}\n",
    "    resultats_tests = {}\n",
    "\n",
    "    y_pred = pd.Series(model.predict(X_test))\n",
    "\n",
    "    resultats_tests['probabilites'] = model.predict_proba(X_test)\n",
    "    resultats_tests['faux_pos'], resultats_tests['vrais_pos'], resultats_tests['seuils'] = \\\n",
    "        metrics.roc_curve(y_true=y_test, y_score=resultats_tests['probabilites'][:, 1], pos_label=True)\n",
    "    resultats_tests['confusion_matrix'] = metrics.confusion_matrix(y_test, y_pred)\n",
    "    resultats_tests['coefficients'] = model.coef_\n",
    "\n",
    "    scores_tests['acc'] = metrics.accuracy_score(y_test, y_pred)\n",
    "    scores_tests['F1'] = metrics.f1_score(y_test, y_pred, pos_label=True)\n",
    "    scores_tests['auroc'] = metrics.auc(resultats_tests['faux_pos'], resultats_tests['vrais_pos'])\n",
    "\n",
    "    negatives = resultats_tests['confusion_matrix'][0]\n",
    "    positives = resultats_tests['confusion_matrix'][1]\n",
    "\n",
    "    scores_tests['SP'] = negatives[0] / (negatives[0] + negatives[1])\n",
    "    scores_tests['SN'] = positives[1] / (positives[0] + positives[1])\n",
    "    scores_tests['NPV'] = negatives[0] / (negatives[0] + positives[0])\n",
    "    scores_tests['PPV'] = positives[1] / (negatives[1] + positives[1])\n",
    "\n",
    "    return pd.Series(scores_tests), resultats_tests['faux_pos'], resultats_tests['vrais_pos'], resultats_tests['seuils']\n",
    "\n",
    "\n",
    "stats_exp_1_train, fpr, tpr, thr = tester_le_modele(model, X, y)\n",
    "stats_exp_1_train.rename('Train set', inplace=True)\n",
    "\n",
    "display(Markdown(stats_exp_1_train.to_markdown()))\n",
    "\n",
    "X_test = df_test.copy().drop(['responder', 'age', 'sex', 'VA_6months', 'elevated_edge'], axis=1)\n",
    "y_test = df_test['responder'].copy()\n",
    "stats_exp_1, fpr, tpr, thr = tester_le_modele(model, X_test, y_test)\n",
    "stats_exp_1.rename('Test set', inplace=True)\n",
    "\n",
    "display(Markdown(stats_exp_1.to_markdown()))\n",
    "\n"
   ],
   "metadata": {
    "collapsed": false,
    "pycharm": {
     "name": "#%%\n"
    }
   }
  },
  {
   "cell_type": "code",
   "execution_count": 188,
   "outputs": [
    {
     "name": "stdout",
     "output_type": "stream",
     "text": [
      "........................."
     ]
    },
    {
     "data": {
      "text/plain": "<IPython.core.display.Markdown object>",
      "text/markdown": "|       |     Mean |       Std |\n|:------|---------:|----------:|\n| acc   | 0.719143 | 0.0765816 |\n| F1    | 0.717887 | 0.0808805 |\n| auroc | 0.817382 | 0.0961487 |\n| SP    | 0.710182 | 0.113251  |\n| SN    | 0.727636 | 0.132871  |\n| NPV   | 0.733027 | 0.116555  |\n| PPV   | 0.721948 | 0.0849232 |"
     },
     "metadata": {},
     "output_type": "display_data"
    }
   ],
   "source": [
    "count = 0\n",
    "crossval_scores = pd.DataFrame()\n",
    "\n",
    "for n_exp in range(5):\n",
    "\n",
    "    folds = StratifiedKFold(n_splits=5, shuffle=True, random_state=n_exp)\n",
    "    groupes = folds.split(X, y)\n",
    "    for train_index, test_index in groupes:\n",
    "        model = LogisticRegressionCV(cv=4)\n",
    "        X_train_CV, X_test_CV = X.iloc[train_index, :], X.iloc[test_index, :]\n",
    "        y_train_CV, y_test_CV = y.iloc[train_index], y.iloc[test_index]\n",
    "        model.fit(X_train_CV, y_train_CV)\n",
    "        stats, _, _, _ = tester_le_modele(model, X_test_CV, y_test_CV)\n",
    "        print(\".\", end=\"\")\n",
    "        crossval_scores = pd.concat([crossval_scores, stats], axis=1)\n",
    "        count += 1\n",
    "crossval_scores = crossval_scores.transpose()\n",
    "stats_crossval = pd.DataFrame([crossval_scores.mean(axis=0, skipna=True), crossval_scores.std(axis=0, skipna=True)]).transpose()\n",
    "stats_crossval.rename(columns={0:'Mean', 1: 'Std'}, inplace=True)\n",
    "display(Markdown(stats_crossval.to_markdown()))"
   ],
   "metadata": {
    "collapsed": false,
    "pycharm": {
     "name": "#%%\n"
    }
   }
  },
  {
   "cell_type": "code",
   "execution_count": 174,
   "outputs": [],
   "source": [],
   "metadata": {
    "collapsed": false,
    "pycharm": {
     "name": "#%%\n"
    }
   }
  }
 ],
 "metadata": {
  "kernelspec": {
   "display_name": "Python 3",
   "language": "python",
   "name": "python3"
  },
  "language_info": {
   "codemirror_mode": {
    "name": "ipython",
    "version": 2
   },
   "file_extension": ".py",
   "mimetype": "text/x-python",
   "name": "python",
   "nbconvert_exporter": "python",
   "pygments_lexer": "ipython2",
   "version": "2.7.6"
  }
 },
 "nbformat": 4,
 "nbformat_minor": 0
}